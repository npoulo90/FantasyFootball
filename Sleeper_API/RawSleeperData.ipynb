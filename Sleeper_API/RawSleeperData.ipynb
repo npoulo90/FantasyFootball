{
 "cells": [
  {
   "cell_type": "code",
   "execution_count": 1,
   "metadata": {},
   "outputs": [],
   "source": [
    "import pandas as pd\n",
    "import numpy as np\n",
    "import matplotlib.pyplot as plt\n",
    "import seaborn as sns\n",
    "import requests\n",
    "import json\n",
    "\n",
    "import Raw_SleeperUser as rsu\n",
    "import Raw_SleeperLeague as rsl"
   ]
  },
  {
   "attachments": {},
   "cell_type": "markdown",
   "metadata": {},
   "source": [
    "# Grab user_id with User() class"
   ]
  },
  {
   "cell_type": "code",
   "execution_count": 11,
   "metadata": {},
   "outputs": [
    {
     "ename": "TypeError",
     "evalue": "'User' object is not callable",
     "output_type": "error",
     "traceback": [
      "\u001b[1;31m---------------------------------------------------------------------------\u001b[0m",
      "\u001b[1;31mTypeError\u001b[0m                                 Traceback (most recent call last)",
      "Cell \u001b[1;32mIn[11], line 6\u001b[0m\n\u001b[0;32m      1\u001b[0m \u001b[39m# user = rsu.User('poulos')\u001b[39;00m\n\u001b[0;32m      2\u001b[0m \u001b[39m# user_id = user.get_user()['user_id'][0]\u001b[39;00m\n\u001b[0;32m      3\u001b[0m \u001b[39m# user_id\u001b[39;00m\n\u001b[0;32m      4\u001b[0m \n\u001b[0;32m      5\u001b[0m \u001b[39m# rsu.User('poulos').get_user()['user_id'][0]\u001b[39;00m\n\u001b[1;32m----> 6\u001b[0m user()\n",
      "\u001b[1;31mTypeError\u001b[0m: 'User' object is not callable"
     ]
    }
   ],
   "source": [
    "# user = rsu.User('poulos')\n",
    "# user_id = user.get_user()['user_id'][0]\n",
    "# user_id\n",
    "\n",
    "# rsu.User('poulos').get_user()['user_id'][0]\n",
    "user"
   ]
  },
  {
   "attachments": {},
   "cell_type": "markdown",
   "metadata": {},
   "source": [
    "# Get League Data using user_id and League() class"
   ]
  },
  {
   "cell_type": "code",
   "execution_count": 8,
   "metadata": {},
   "outputs": [
    {
     "ename": "NameError",
     "evalue": "name 'league_id' is not defined",
     "output_type": "error",
     "traceback": [
      "\u001b[1;31m---------------------------------------------------------------------------\u001b[0m",
      "\u001b[1;31mNameError\u001b[0m                                 Traceback (most recent call last)",
      "Cell \u001b[1;32mIn[8], line 7\u001b[0m\n\u001b[0;32m      2\u001b[0m league\u001b[39m.\u001b[39mget_leagues()\n\u001b[0;32m      4\u001b[0m \u001b[39m# league_id = league.get_leagues()['league_id'][0]\u001b[39;00m\n\u001b[0;32m      5\u001b[0m \u001b[39m# league_id\u001b[39;00m\n\u001b[1;32m----> 7\u001b[0m league\u001b[39m.\u001b[39;49mget_rosters()\n",
      "File \u001b[1;32mc:\\Users\\apoul\\OneDrive\\Documents\\Nick\\FantasyFootball\\Sleeper_API\\Raw_SleeperLeague.py:24\u001b[0m, in \u001b[0;36mLeague.get_rosters\u001b[1;34m(self)\u001b[0m\n\u001b[0;32m     23\u001b[0m \u001b[39mdef\u001b[39;00m \u001b[39mget_rosters\u001b[39m(\u001b[39mself\u001b[39m):\n\u001b[1;32m---> 24\u001b[0m     url \u001b[39m=\u001b[39m \u001b[39m\"\u001b[39m\u001b[39mhttps://api.sleeper.app/v1/league/\u001b[39m\u001b[39m\"\u001b[39m \u001b[39m+\u001b[39m league_id \u001b[39m+\u001b[39m \u001b[39m\"\u001b[39m\u001b[39m/rosters\u001b[39m\u001b[39m\"\u001b[39m\n\u001b[0;32m     25\u001b[0m     rosters \u001b[39m=\u001b[39m pd\u001b[39m.\u001b[39mDataFrame\u001b[39m.\u001b[39mfrom_dict(requests\u001b[39m.\u001b[39mget(url)\u001b[39m.\u001b[39mjson())\n\u001b[0;32m     26\u001b[0m     \u001b[39mreturn\u001b[39;00m rosters\n",
      "\u001b[1;31mNameError\u001b[0m: name 'league_id' is not defined"
     ]
    }
   ],
   "source": [
    "league = rsl.League(user_id, '2020')\n",
    "league.get_leagues()\n",
    "\n",
    "# league_id = league.get_leagues()['league_id'][0]\n",
    "# league_id\n",
    "\n",
    "league.get_rosters()"
   ]
  },
  {
   "attachments": {},
   "cell_type": "markdown",
   "metadata": {},
   "source": [
    "# Get League Data Based on a specific user_id and season (year)"
   ]
  },
  {
   "cell_type": "code",
   "execution_count": null,
   "metadata": {},
   "outputs": [],
   "source": [
    "# #Create an api call using this url https://api.sleeper.app/v1/user/<user_id>/leagues/<sport>/<season>\n",
    "# #Replace <user_id> with your user_id, sport with nfl, and season with 2019\n",
    "# #Load the data into a dataframe called leagues\n",
    "#leagues = pd.DataFrame.from_dict(requests.get(url).json(), orient='index').T\n",
    "def get_leagues(self, user_id, year):\n",
    "    url = \"https://api.sleeper.app/v1/user/\" + user_id + \"/leagues/nfl/\" + str(year)\n",
    "    leagues = pd.DataFrame.from_dict(requests.get(url).json()[0], orient='index').T\n",
    "    return leagues"
   ]
  },
  {
   "cell_type": "code",
   "execution_count": 5,
   "metadata": {},
   "outputs": [],
   "source": [
    "class testing:\n",
    "    def __get__(self, obj, objtype=None):\n",
    "        return rsu.User('poulos').get_user()['user_id'][0]\n",
    "    \n",
    "class get_rosters:\n",
    "    def __init__(self, lea) -> None:\n",
    "        pass    \n",
    "    \n",
    "    \n",
    "    # def __get__(self, obj, objtype=None):\n",
    "    #     roster_url = \"https://api.sleeper.app/v1/league/\" + testing.__get__(self) + \"/rosters\"\n",
    "    #     return League(user_id, '2020').get_leagues()['league_id'][0]\n",
    "    \n",
    "    @roster_id\n",
    "    "
   ]
  }
 ],
 "metadata": {
  "kernelspec": {
   "display_name": "base",
   "language": "python",
   "name": "python3"
  },
  "language_info": {
   "codemirror_mode": {
    "name": "ipython",
    "version": 3
   },
   "file_extension": ".py",
   "mimetype": "text/x-python",
   "name": "python",
   "nbconvert_exporter": "python",
   "pygments_lexer": "ipython3",
   "version": "3.10.9"
  },
  "orig_nbformat": 4
 },
 "nbformat": 4,
 "nbformat_minor": 2
}
