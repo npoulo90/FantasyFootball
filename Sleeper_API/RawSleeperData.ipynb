{
 "cells": [
  {
   "cell_type": "code",
   "execution_count": 23,
   "metadata": {},
   "outputs": [
    {
     "ename": "TypeError",
     "evalue": "User.get_user() missing 1 required positional argument: 'self'",
     "output_type": "error",
     "traceback": [
      "\u001b[1;31m---------------------------------------------------------------------------\u001b[0m",
      "\u001b[1;31mTypeError\u001b[0m                                 Traceback (most recent call last)",
      "Cell \u001b[1;32mIn[23], line 12\u001b[0m\n\u001b[0;32m      8\u001b[0m \u001b[39mimport\u001b[39;00m \u001b[39mRaw_SleeperUser\u001b[39;00m \u001b[39mas\u001b[39;00m \u001b[39mrsu\u001b[39;00m\n\u001b[0;32m     11\u001b[0m user \u001b[39m=\u001b[39m rsu\u001b[39m.\u001b[39mUser(\u001b[39m'\u001b[39m\u001b[39mpoulos\u001b[39m\u001b[39m'\u001b[39m)\n\u001b[1;32m---> 12\u001b[0m user\u001b[39m.\u001b[39;49mget_user_id()\n",
      "File \u001b[1;32mc:\\Users\\apoul\\OneDrive\\Documents\\Nick\\FantasyFootball\\Sleeper_API\\Raw_SleeperUser.py:19\u001b[0m, in \u001b[0;36mUser.get_user_id\u001b[1;34m(self)\u001b[0m\n\u001b[0;32m     17\u001b[0m \u001b[39mdef\u001b[39;00m \u001b[39mget_user_id\u001b[39m(\u001b[39mself\u001b[39m):\n\u001b[0;32m     18\u001b[0m     url \u001b[39m=\u001b[39m \u001b[39m\"\u001b[39m\u001b[39mhttps://api.sleeper.app/v1/user/\u001b[39m\u001b[39m\"\u001b[39m \u001b[39m+\u001b[39m \u001b[39mself\u001b[39m\u001b[39m.\u001b[39muser_name\n\u001b[1;32m---> 19\u001b[0m     \u001b[39mreturn\u001b[39;00m User\u001b[39m.\u001b[39;49mget_user()[\u001b[39m'\u001b[39m\u001b[39muser_id\u001b[39m\u001b[39m'\u001b[39m][\u001b[39m0\u001b[39m]\n",
      "\u001b[1;31mTypeError\u001b[0m: User.get_user() missing 1 required positional argument: 'self'"
     ]
    }
   ],
   "source": [
    "import pandas as pd\n",
    "import numpy as np\n",
    "import matplotlib.pyplot as plt\n",
    "import seaborn as sns\n",
    "import requests\n",
    "import json\n",
    "\n",
    "import Raw_SleeperUser as rsu\n",
    "\n",
    "\n",
    "user = rsu.User('poulos')\n",
    "user.get_user_id()\n",
    "# df = rsu.User('poulos').get_user()\n",
    "# df['user_id'][0] \n"
   ]
  },
  {
   "attachments": {},
   "cell_type": "markdown",
   "metadata": {},
   "source": [
    "# Get User Data Based On User Name"
   ]
  },
  {
   "cell_type": "code",
   "execution_count": null,
   "metadata": {},
   "outputs": [],
   "source": [
    "#Create an api call using this url curl \"https://api.sleeper.app/v1/user/<username>\"\n",
    "#Replace <username> with your poulos\n",
    "#Load the data into a dataframe called user\n",
    "\n",
    "class Sleeper_NFL:\n",
    "    def __init__(self, user_name, year):\n",
    "        self.user_name = user_name\n",
    "        self.year = year\n",
    "\n",
    "    def get_user(username):\n",
    "        url = \"https://api.sleeper.app/v1/user/\" + username\n",
    "        user = pd.DataFrame.from_dict(requests.get(url).json(), orient='index').T\n",
    "        return user"
   ]
  },
  {
   "attachments": {},
   "cell_type": "markdown",
   "metadata": {},
   "source": [
    "# Get League Data Based on a specific user_id and season (year)"
   ]
  },
  {
   "cell_type": "code",
   "execution_count": null,
   "metadata": {},
   "outputs": [],
   "source": [
    "# #Create an api call using this url https://api.sleeper.app/v1/user/<user_id>/leagues/<sport>/<season>\n",
    "# #Replace <user_id> with your user_id, sport with nfl, and season with 2019\n",
    "# #Load the data into a dataframe called leagues\n",
    "#leagues = pd.DataFrame.from_dict(requests.get(url).json(), orient='index').T\n",
    "def get_leagues(self, user_id, year):\n",
    "    url = \"https://api.sleeper.app/v1/user/\" + user_id + \"/leagues/nfl/\" + str(year)\n",
    "    leagues = pd.DataFrame.from_dict(requests.get(url).json()[0], orient='index').T\n",
    "    return leagues"
   ]
  },
  {
   "cell_type": "code",
   "execution_count": null,
   "metadata": {},
   "outputs": [],
   "source": []
  }
 ],
 "metadata": {
  "kernelspec": {
   "display_name": "base",
   "language": "python",
   "name": "python3"
  },
  "language_info": {
   "codemirror_mode": {
    "name": "ipython",
    "version": 3
   },
   "file_extension": ".py",
   "mimetype": "text/x-python",
   "name": "python",
   "nbconvert_exporter": "python",
   "pygments_lexer": "ipython3",
   "version": "3.10.9"
  },
  "orig_nbformat": 4
 },
 "nbformat": 4,
 "nbformat_minor": 2
}
