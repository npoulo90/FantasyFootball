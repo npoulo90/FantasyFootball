{
 "cells": [
  {
   "cell_type": "markdown",
   "metadata": {},
   "source": []
  },
  {
   "cell_type": "code",
   "execution_count": 1,
   "metadata": {},
   "outputs": [],
   "source": [
    "import pandas as pd\n",
    "import numpy as np\n",
    "import matplotlib.pyplot as plt\n",
    "import seaborn as sns\n",
    "import requests\n",
    "import json"
   ]
  },
  {
   "attachments": {},
   "cell_type": "markdown",
   "metadata": {},
   "source": [
    "Get user data based on username"
   ]
  },
  {
   "cell_type": "code",
   "execution_count": 32,
   "metadata": {},
   "outputs": [
    {
     "data": {
      "text/html": [
       "<div>\n",
       "<style scoped>\n",
       "    .dataframe tbody tr th:only-of-type {\n",
       "        vertical-align: middle;\n",
       "    }\n",
       "\n",
       "    .dataframe tbody tr th {\n",
       "        vertical-align: top;\n",
       "    }\n",
       "\n",
       "    .dataframe thead th {\n",
       "        text-align: right;\n",
       "    }\n",
       "</style>\n",
       "<table border=\"1\" class=\"dataframe\">\n",
       "  <thead>\n",
       "    <tr style=\"text-align: right;\">\n",
       "      <th></th>\n",
       "      <th>verification</th>\n",
       "      <th>username</th>\n",
       "      <th>user_id</th>\n",
       "      <th>token</th>\n",
       "      <th>summoner_region</th>\n",
       "      <th>summoner_name</th>\n",
       "      <th>solicitable</th>\n",
       "      <th>real_name</th>\n",
       "      <th>phone</th>\n",
       "      <th>pending</th>\n",
       "      <th>...</th>\n",
       "      <th>metadata</th>\n",
       "      <th>is_bot</th>\n",
       "      <th>email</th>\n",
       "      <th>display_name</th>\n",
       "      <th>deleted</th>\n",
       "      <th>data_updated</th>\n",
       "      <th>currencies</th>\n",
       "      <th>created</th>\n",
       "      <th>cookies</th>\n",
       "      <th>avatar</th>\n",
       "    </tr>\n",
       "  </thead>\n",
       "  <tbody>\n",
       "    <tr>\n",
       "      <th>0</th>\n",
       "      <td>None</td>\n",
       "      <td>poulos</td>\n",
       "      <td>202776677313417216</td>\n",
       "      <td>None</td>\n",
       "      <td>None</td>\n",
       "      <td>None</td>\n",
       "      <td>None</td>\n",
       "      <td>None</td>\n",
       "      <td>None</td>\n",
       "      <td>None</td>\n",
       "      <td>...</td>\n",
       "      <td>None</td>\n",
       "      <td>False</td>\n",
       "      <td>None</td>\n",
       "      <td>poulos</td>\n",
       "      <td>None</td>\n",
       "      <td>None</td>\n",
       "      <td>None</td>\n",
       "      <td>None</td>\n",
       "      <td>None</td>\n",
       "      <td>9f5d9f658121dcd67c273417dbb4872a</td>\n",
       "    </tr>\n",
       "  </tbody>\n",
       "</table>\n",
       "<p>1 rows × 21 columns</p>\n",
       "</div>"
      ],
      "text/plain": [
       "  verification username             user_id token summoner_region  \\\n",
       "0         None   poulos  202776677313417216  None            None   \n",
       "\n",
       "  summoner_name solicitable real_name phone pending  ... metadata is_bot  \\\n",
       "0          None        None      None  None    None  ...     None  False   \n",
       "\n",
       "  email display_name deleted data_updated currencies created cookies  \\\n",
       "0  None       poulos    None         None       None    None    None   \n",
       "\n",
       "                             avatar  \n",
       "0  9f5d9f658121dcd67c273417dbb4872a  \n",
       "\n",
       "[1 rows x 21 columns]"
      ]
     },
     "execution_count": 32,
     "metadata": {},
     "output_type": "execute_result"
    }
   ],
   "source": [
    "#Create an api call using this url curl \"https://api.sleeper.app/v1/user/<username>\"\n",
    "#Replace <username> with your poulos\n",
    "#Load the data into a dataframe called user\n",
    "url = \"https://api.sleeper.app/v1/user/poulos\"\n",
    "user = pd.DataFrame.from_dict(requests.get(url).json(), orient='index').T\n",
    "user\n",
    "\n"
   ]
  },
  {
   "attachments": {},
   "cell_type": "markdown",
   "metadata": {},
   "source": [
    "Get league data for a specific year based on user_id"
   ]
  },
  {
   "cell_type": "code",
   "execution_count": 41,
   "metadata": {},
   "outputs": [
    {
     "name": "stdout",
     "output_type": "stream",
     "text": [
      "range(2017, 2022)\n"
     ]
    }
   ],
   "source": [
    "#Create an api call using this url https://api.sleeper.app/v1/user/<user_id>/leagues/<sport>/<season>\n",
    "#Replace <user_id> with your user_id, sport with nfl, and season with 2019\n",
    "#Load the data into a dataframe called leagues\n",
    "# url = \"https://api.sleeper.app/v1/user/202776677313417216/leagues/nfl/2017\"\n",
    "# leagues = pd.DataFrame.from_dict(requests.get(url).json(), orient='index').T\n",
    "# user_id = user['user_id'][0]\n",
    "def get_leagues(user_id, year):\n",
    "    url = \"https://api.sleeper.app/v1/user/\" + user_id + \"/leagues/nfl/\" + str(i)\n",
    "    leagues = pd.DataFrame.from_dict(requests.get(url).json()[0], orient='index').T\n",
    "    return leagues\n",
    "\n",
    "leagues = pd.DataFrame.from_dict(get_leagues(user_id, 2018))\n",
    "\n",
    "# for i in range(2017, 2022):\n",
    "#     leagues = leagues.append(get_leagues(user_id, i))\n",
    "\n",
    "# leagues\n",
    "    \n",
    "# requests.get(\"https://api.sleeper.app/v1/user/\" + user_id + \"/leagues/nfl/\" + str(2017)).json()[0]\n",
    "print(range(2017, 2022, 1))"
   ]
  },
  {
   "attachments": {},
   "cell_type": "markdown",
   "metadata": {},
   "source": [
    "Scoring Settings by year in a dataframe"
   ]
  },
  {
   "cell_type": "code",
   "execution_count": 20,
   "metadata": {},
   "outputs": [
    {
     "ename": "KeyError",
     "evalue": "'scoring_settings'",
     "output_type": "error",
     "traceback": [
      "\u001b[1;31m---------------------------------------------------------------------------\u001b[0m",
      "\u001b[1;31mKeyError\u001b[0m                                  Traceback (most recent call last)",
      "Cell \u001b[1;32mIn[20], line 4\u001b[0m\n\u001b[0;32m      1\u001b[0m \u001b[39m#Create a for loop to loop over the scoring settings column in leagues and append to a dataframe called scoringsettings\u001b[39;00m\n\u001b[0;32m      2\u001b[0m \u001b[39m#use the line above as a guide\u001b[39;00m\n\u001b[1;32m----> 4\u001b[0m scoringsettings \u001b[39m=\u001b[39m pd\u001b[39m.\u001b[39mDataFrame\u001b[39m.\u001b[39mfrom_dict(leagues[\u001b[39m'\u001b[39;49m\u001b[39mscoring_settings\u001b[39;49m\u001b[39m'\u001b[39;49m], orient\u001b[39m=\u001b[39m\u001b[39m'\u001b[39m\u001b[39mindex\u001b[39m\u001b[39m'\u001b[39m)\u001b[39m.\u001b[39mT\n\u001b[0;32m      5\u001b[0m \u001b[39mfor\u001b[39;00m i \u001b[39min\u001b[39;00m \u001b[39mlist\u001b[39m(leagues[\u001b[39m'\u001b[39m\u001b[39mscoring_settings\u001b[39m\u001b[39m'\u001b[39m]):\n\u001b[0;32m      6\u001b[0m     scoringsettings \u001b[39m=\u001b[39m scoringsettings\u001b[39m.\u001b[39mappend(pd\u001b[39m.\u001b[39mDataFrame\u001b[39m.\u001b[39mfrom_dict(i, orient\u001b[39m=\u001b[39m\u001b[39m'\u001b[39m\u001b[39mindex\u001b[39m\u001b[39m'\u001b[39m)\u001b[39m.\u001b[39mT)\n",
      "File \u001b[1;32mc:\\ProgramData\\anaconda3\\lib\\site-packages\\pandas\\core\\frame.py:3807\u001b[0m, in \u001b[0;36mDataFrame.__getitem__\u001b[1;34m(self, key)\u001b[0m\n\u001b[0;32m   3805\u001b[0m \u001b[39mif\u001b[39;00m \u001b[39mself\u001b[39m\u001b[39m.\u001b[39mcolumns\u001b[39m.\u001b[39mnlevels \u001b[39m>\u001b[39m \u001b[39m1\u001b[39m:\n\u001b[0;32m   3806\u001b[0m     \u001b[39mreturn\u001b[39;00m \u001b[39mself\u001b[39m\u001b[39m.\u001b[39m_getitem_multilevel(key)\n\u001b[1;32m-> 3807\u001b[0m indexer \u001b[39m=\u001b[39m \u001b[39mself\u001b[39;49m\u001b[39m.\u001b[39;49mcolumns\u001b[39m.\u001b[39;49mget_loc(key)\n\u001b[0;32m   3808\u001b[0m \u001b[39mif\u001b[39;00m is_integer(indexer):\n\u001b[0;32m   3809\u001b[0m     indexer \u001b[39m=\u001b[39m [indexer]\n",
      "File \u001b[1;32mc:\\ProgramData\\anaconda3\\lib\\site-packages\\pandas\\core\\indexes\\range.py:395\u001b[0m, in \u001b[0;36mRangeIndex.get_loc\u001b[1;34m(self, key, method, tolerance)\u001b[0m\n\u001b[0;32m    393\u001b[0m             \u001b[39mraise\u001b[39;00m \u001b[39mKeyError\u001b[39;00m(key) \u001b[39mfrom\u001b[39;00m \u001b[39merr\u001b[39;00m\n\u001b[0;32m    394\u001b[0m     \u001b[39mself\u001b[39m\u001b[39m.\u001b[39m_check_indexing_error(key)\n\u001b[1;32m--> 395\u001b[0m     \u001b[39mraise\u001b[39;00m \u001b[39mKeyError\u001b[39;00m(key)\n\u001b[0;32m    396\u001b[0m \u001b[39mreturn\u001b[39;00m \u001b[39msuper\u001b[39m()\u001b[39m.\u001b[39mget_loc(key, method\u001b[39m=\u001b[39mmethod, tolerance\u001b[39m=\u001b[39mtolerance)\n",
      "\u001b[1;31mKeyError\u001b[0m: 'scoring_settings'"
     ]
    }
   ],
   "source": [
    "#Create a for loop to loop over the scoring settings column in leagues and append to a dataframe called scoringsettings\n",
    "#use the line above as a guide\n",
    "\n",
    "scoringsettings = pd.DataFrame.from_dict(leagues['scoring_settings'].iloc[0], orient='index').T\n",
    "for i in list(leagues['scoring_settings']):\n",
    "    scoringsettings = scoringsettings.append(pd.DataFrame.from_dict(i, orient='index').T)\n",
    "scoringsettings\n"
   ]
  },
  {
   "cell_type": "code",
   "execution_count": null,
   "metadata": {},
   "outputs": [],
   "source": [
    "#create a loop for all of the roster_positions in the leagues dataframe and append to a dataframe called rosterpositions\n",
    "#use the line above as a guide\n",
    "# rosterpositions = leagues['roster_positions']\n",
    "# for i in list(leagues['roster_positions']):\n",
    "#     rosterpositions = rosterpositions.append(pd.DataFrame.from_dict(i, orient='index').T)\n",
    "# rosterpositions\n",
    "\n",
    "\n"
   ]
  },
  {
   "cell_type": "code",
   "execution_count": null,
   "metadata": {},
   "outputs": [],
   "source": [
    "rosterpositions\n",
    "# while counter >= 0:\n",
    "#     print(leagues.iloc[[i]].pivot_table(index='season', columns='roster_positions'[0], aggfunc='count', fill_value=0))\n",
    "#     counter = counter - 1"
   ]
  }
 ],
 "metadata": {
  "kernelspec": {
   "display_name": "base",
   "language": "python",
   "name": "python3"
  },
  "language_info": {
   "codemirror_mode": {
    "name": "ipython",
    "version": 3
   },
   "file_extension": ".py",
   "mimetype": "text/x-python",
   "name": "python",
   "nbconvert_exporter": "python",
   "pygments_lexer": "ipython3",
   "version": "3.10.9"
  },
  "orig_nbformat": 4
 },
 "nbformat": 4,
 "nbformat_minor": 2
}
