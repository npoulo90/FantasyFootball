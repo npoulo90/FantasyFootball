{
 "cells": [
  {
   "cell_type": "code",
   "execution_count": 1,
   "metadata": {},
   "outputs": [],
   "source": [
    "import datetime as dt\n",
    "import requests\n",
    "import pandas as pd\n",
    "import Raw_SleeperLeague as rsl\n",
    "import Raw_SleeperUser as rsu\n",
    "import Raw_SleeperRosters as rsr\n",
    "import pyodbc\n",
    "import sqlalchemy\n",
    "from To_SQL import SQL_Insert"
   ]
  },
  {
   "attachments": {},
   "cell_type": "markdown",
   "metadata": {},
   "source": [
    "# Insert User to SQL"
   ]
  },
  {
   "cell_type": "code",
   "execution_count": 2,
   "metadata": {},
   "outputs": [],
   "source": [
    "user = rsu.User(\"poulos\")\n",
    "user_df = user.get_user()\n",
    "# SQL_Insert(user_df, 'users', 'raw_sleeper').insert()"
   ]
  },
  {
   "cell_type": "code",
   "execution_count": 3,
   "metadata": {},
   "outputs": [
    {
     "data": {
      "text/plain": [
       "'202776677313417216'"
      ]
     },
     "execution_count": 3,
     "metadata": {},
     "output_type": "execute_result"
    }
   ],
   "source": [
    "#This will be used in the User League API Call\n",
    "user_id = str(user_df['user_id'][0])\n",
    "user_id"
   ]
  },
  {
   "attachments": {},
   "cell_type": "markdown",
   "metadata": {},
   "source": [
    "# Insert User League to SQL"
   ]
  },
  {
   "cell_type": "code",
   "execution_count": 4,
   "metadata": {},
   "outputs": [],
   "source": [
    "league = rsl.League(user_id, \"2022\")\n",
    "league_users = league.get_all_users()\n"
   ]
  },
  {
   "cell_type": "code",
   "execution_count": 5,
   "metadata": {},
   "outputs": [],
   "source": [
    "# Calling the Sleeper API for the all users in a league League. Returns a list of dictionaries.\n",
    "url = f\"https://api.sleeper.app/v1/user/{id}\"\n",
    "user_list = []\n",
    "for id in [league_users['user_id']][0]:\n",
    "    user_list.append(requests.get(f\"https://api.sleeper.app/v1/user/{id}\".format(x=id)).json())"
   ]
  },
  {
   "cell_type": "code",
   "execution_count": 6,
   "metadata": {},
   "outputs": [],
   "source": [
    "#Loading dictionaries from list into dataframe\n",
    "df = pd.DataFrame()\n",
    "for i in user_list:\n",
    "    df = pd.concat([df, pd.DataFrame.from_dict(i, orient='index').T])"
   ]
  },
  {
   "attachments": {},
   "cell_type": "markdown",
   "metadata": {},
   "source": [
    "# Insert Results to SQL Table"
   ]
  },
  {
   "cell_type": "code",
   "execution_count": 7,
   "metadata": {},
   "outputs": [],
   "source": [
    "# SQL_Insert(df, 'users', 'raw_sleeper').insert()\n"
   ]
  },
  {
   "attachments": {},
   "cell_type": "markdown",
   "metadata": {},
   "source": [
    "# Get League ID"
   ]
  },
  {
   "cell_type": "code",
   "execution_count": 8,
   "metadata": {},
   "outputs": [],
   "source": [
    "#Will only grab the first leaue_id from the dataframe in the event a user\n",
    "#played in more than one league.. This will be used in the User League API Call\n",
    "league = rsl.League(user_id, \"2021\")\n",
    "league_id = league.get_league_id()"
   ]
  },
  {
   "attachments": {},
   "cell_type": "markdown",
   "metadata": {},
   "source": [
    "# Getting all Rosters for a League"
   ]
  },
  {
   "cell_type": "code",
   "execution_count": 9,
   "metadata": {},
   "outputs": [
    {
     "ename": "AttributeError",
     "evalue": "'function' object has no attribute 'get_league_id'",
     "output_type": "error",
     "traceback": [
      "\u001b[1;31m---------------------------------------------------------------------------\u001b[0m",
      "\u001b[1;31mAttributeError\u001b[0m                            Traceback (most recent call last)",
      "Cell \u001b[1;32mIn[9], line 4\u001b[0m\n\u001b[0;32m      1\u001b[0m \u001b[39m# \"https://api.sleeper.app/v1/league/<league_id>/rosters\" -->\u001b[39;00m\n\u001b[0;32m      3\u001b[0m rosters \u001b[39m=\u001b[39m rsr\u001b[39m.\u001b[39mRosters(\u001b[39m'\u001b[39m\u001b[39mpoulos\u001b[39m\u001b[39m'\u001b[39m, \u001b[39m\"\u001b[39m\u001b[39m2021\u001b[39m\u001b[39m\"\u001b[39m)\n\u001b[1;32m----> 4\u001b[0m rosters\u001b[39m.\u001b[39;49mget_rosters()\n",
      "File \u001b[1;32mc:\\Users\\apoul\\OneDrive\\Documents\\Nick\\FantasyFootball\\FantasyFootball\\Sleeper_API\\Raw_SleeperRosters.py:16\u001b[0m, in \u001b[0;36mRosters.get_rosters\u001b[1;34m(self)\u001b[0m\n\u001b[0;32m     15\u001b[0m \u001b[39mdef\u001b[39;00m \u001b[39mget_rosters\u001b[39m(\u001b[39mself\u001b[39m):\n\u001b[1;32m---> 16\u001b[0m     league_id \u001b[39m=\u001b[39m \u001b[39msuper\u001b[39;49m()\u001b[39m.\u001b[39;49m\u001b[39m__init__\u001b[39;49m\u001b[39m.\u001b[39;49mget_league_id()\n\u001b[0;32m     17\u001b[0m     roster_url \u001b[39m=\u001b[39m \u001b[39m\"\u001b[39m\u001b[39mhttps://api.sleeper.app/v1/league/\u001b[39m\u001b[39m\"\u001b[39m \u001b[39m+\u001b[39m \u001b[39mstr\u001b[39m(league_id) \u001b[39m+\u001b[39m \u001b[39m\"\u001b[39m\u001b[39m/rosters\u001b[39m\u001b[39m\"\u001b[39m\n\u001b[0;32m     18\u001b[0m     \u001b[39mreturn\u001b[39;00m \u001b[39msuper\u001b[39m(roster_url)\u001b[39m.\u001b[39m\u001b[39m__init__\u001b[39m\u001b[39m.\u001b[39m_call()\n",
      "\u001b[1;31mAttributeError\u001b[0m: 'function' object has no attribute 'get_league_id'"
     ]
    }
   ],
   "source": [
    "# \"https://api.sleeper.app/v1/league/<league_id>/rosters\" -->\n",
    "\n",
    "rosters = rsr.Rosters('poulos', \"2021\")\n",
    "rosters.get_rosters()"
   ]
  },
  {
   "cell_type": "code",
   "execution_count": null,
   "metadata": {},
   "outputs": [],
   "source": []
  },
  {
   "cell_type": "code",
   "execution_count": null,
   "metadata": {},
   "outputs": [],
   "source": []
  },
  {
   "cell_type": "code",
   "execution_count": null,
   "metadata": {},
   "outputs": [],
   "source": []
  }
 ],
 "metadata": {
  "kernelspec": {
   "display_name": "base",
   "language": "python",
   "name": "python3"
  },
  "language_info": {
   "codemirror_mode": {
    "name": "ipython",
    "version": 3
   },
   "file_extension": ".py",
   "mimetype": "text/x-python",
   "name": "python",
   "nbconvert_exporter": "python",
   "pygments_lexer": "ipython3",
   "version": "3.10.9"
  },
  "orig_nbformat": 4
 },
 "nbformat": 4,
 "nbformat_minor": 2
}
